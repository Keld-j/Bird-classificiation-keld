{
 "cells": [
  {
   "cell_type": "code",
   "execution_count": null,
   "metadata": {},
   "outputs": [],
   "source": [
    "import os\n",
    "import numpy as np\n",
    "import shutil\n",
    "train_dir = \"C:/users/keldj/contents\"\n"
   ]
  },
  {
   "cell_type": "code",
   "execution_count": null,
   "metadata": {},
   "outputs": [],
   "source": [
    "# Create folders for  training data and validation randomly splitted \n",
    "new_train = os.mkdir(\"new_train\")\n",
    "new_valid = os.mkdir(\"new_valid\")\n"
   ]
  },
  {
   "cell_type": "code",
   "execution_count": null,
   "metadata": {},
   "outputs": [],
   "source": [
    "new_train_dir = \"new_train/\"\n",
    "new_valid_dir = \"new_valid/\""
   ]
  },
  {
   "cell_type": "code",
   "execution_count": null,
   "metadata": {},
   "outputs": [],
   "source": [
    "classes = os.listdir(train_dir) # Get all the classes from the original train directory"
   ]
  },
  {
   "cell_type": "code",
   "execution_count": null,
   "metadata": {},
   "outputs": [],
   "source": [
    "# Create target folders in the new train data directory\n",
    "for c in classes:\n",
    "    os.mkdir(new_train_dir+c)"
   ]
  },
  {
   "cell_type": "code",
   "execution_count": null,
   "metadata": {},
   "outputs": [],
   "source": [
    "# Create validation folders in the new validation data directory\n",
    "for c in classes:\n",
    "    os.mkdir(new_valid_dir+c)"
   ]
  },
  {
   "cell_type": "code",
   "execution_count": null,
   "metadata": {},
   "outputs": [],
   "source": [
    "classes"
   ]
  },
  {
   "cell_type": "code",
   "execution_count": null,
   "metadata": {},
   "outputs": [],
   "source": [
    "bird_path= train_dir+classes[0]+'/'"
   ]
  },
  {
   "cell_type": "code",
   "execution_count": null,
   "metadata": {},
   "outputs": [],
   "source": [
    "for species in classes:\n",
    "    bird_root = train_dir+species+'/'\n",
    "    bird_new_train = new_train_dir + species + '/'\n",
    "    bird_new_valid = new_valid_dir + species + '/'\n",
    "    bird_root_list = os.listdir(bird_root)\n",
    "    test_size = 0.8\n",
    "    split_index = int(0.8*len(bird_root_list))\n",
    "    np.random.shuffle(bird_root_list)\n",
    "    train_list = bird_root_list[:split_index]\n",
    "    valid_list = bird_root_list[split_index:]\n",
    "    for image in train_list :\n",
    "        source = bird_root + image\n",
    "        target = bird_new_train + image\n",
    "        shutil.copy(source,target)\n",
    "    for image in valid_list:\n",
    "        source = bird_root + image\n",
    "        target = bird_new_valid + image\n",
    "        shutil.copy(source,target)\n",
    "    \n"
   ]
  },
  {
   "cell_type": "code",
   "execution_count": null,
   "metadata": {},
   "outputs": [],
   "source": [
    "train_no = []\n",
    "valid_no = []\n",
    "for c in classes:\n",
    "    train_no.append((len(os.listdir(new_train_dir+c+'/'))))\n",
    "    valid_no.append(len(os.listdir(new_valid_dir+c+'/')))"
   ]
  },
  {
   "cell_type": "code",
   "execution_count": null,
   "metadata": {},
   "outputs": [],
   "source": [
    "sum(train_no) "
   ]
  },
  {
   "cell_type": "code",
   "execution_count": null,
   "metadata": {},
   "outputs": [],
   "source": [
    "sum(valid_no)"
   ]
  },
  {
   "cell_type": "code",
   "execution_count": null,
   "metadata": {},
   "outputs": [],
   "source": []
  },
  {
   "cell_type": "code",
   "execution_count": null,
   "metadata": {},
   "outputs": [],
   "source": []
  },
  {
   "cell_type": "code",
   "execution_count": null,
   "metadata": {},
   "outputs": [],
   "source": []
  }
 ],
 "metadata": {
  "anaconda-cloud": {},
  "kernelspec": {
   "display_name": "Python 3",
   "language": "python",
   "name": "python3"
  },
  "language_info": {
   "codemirror_mode": {
    "name": "ipython",
    "version": 3
   },
   "file_extension": ".py",
   "mimetype": "text/x-python",
   "name": "python",
   "nbconvert_exporter": "python",
   "pygments_lexer": "ipython3",
   "version": "3.7.4"
  }
 },
 "nbformat": 4,
 "nbformat_minor": 1
}
